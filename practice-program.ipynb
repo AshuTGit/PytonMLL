{
  "cells": [
    {
      "cell_type": "code",
      "execution_count": null,
      "metadata": {
        "id": "Y26BoNFtXY8-"
      },
      "outputs": [],
      "source": [
        "print(\"Ashutosh\")"
      ]
    },
    {
      "cell_type": "code",
      "source": [
        "#fibonacci program till 100\n",
        "import numpy as np\n",
        "n = 100\n",
        "n1 =0\n",
        "n2=1\n",
        "next_number=n1+n2\n",
        "counter = 1\n",
        "print(n1,n2)\n",
        "while next_number<=n:\n",
        "    print( next_number,end=\" \")\n",
        "    counter+=1\n",
        "    n1=n2\n",
        "    n2=next_number\n",
        "    next_number=n1+n2\n",
        "\n",
        "print(n1,n2)"
      ],
      "metadata": {
        "id": "GOoSNYEsXhMf"
      },
      "execution_count": null,
      "outputs": []
    },
    {
      "cell_type": "code",
      "source": [
        "#Prime Number till 100\n",
        "n=100\n",
        "for i in range(2,n+1):\n",
        "    for j in range(2,i):\n",
        "        if i%j==0:\n",
        "            break\n",
        "    else:\n",
        "        print(i)"
      ],
      "metadata": {
        "id": "m6LTNEgCizcE",
        "collapsed": true,
        "colab": {
          "base_uri": "https://localhost:8080/"
        },
        "outputId": "f947d45f-fc74-4204-a989-91118757889f"
      },
      "execution_count": null,
      "outputs": [
        {
          "output_type": "stream",
          "name": "stdout",
          "text": [
            "2\n",
            "3\n",
            "5\n",
            "7\n",
            "11\n",
            "13\n",
            "17\n",
            "19\n",
            "23\n",
            "29\n",
            "31\n",
            "37\n",
            "41\n",
            "43\n",
            "47\n",
            "53\n",
            "59\n",
            "61\n",
            "67\n",
            "71\n",
            "73\n",
            "79\n",
            "83\n",
            "89\n",
            "97\n"
          ]
        }
      ]
    },
    {
      "cell_type": "code",
      "source": [
        "pip install yfinance"
      ],
      "metadata": {
        "id": "7nFPo7j7RtKM"
      },
      "execution_count": null,
      "outputs": []
    },
    {
      "cell_type": "code",
      "source": [
        "import yfinance as yf\n",
        "\n",
        "# Fetch Bank Nifty index data\n",
        "def get_banknifty_data():\n",
        "    try:\n",
        "        # Bank Nifty ticker on Yahoo Finance\n",
        "        ticker = \"^NSEBANK\"\n",
        "\n",
        "        # Fetch live data\n",
        "        banknifty = yf.Ticker(ticker)\n",
        "        data = banknifty.history(period=\"1d\")\n",
        "\n",
        "        # Extract key details\n",
        "        ltp = data['Close'].iloc[-1]\n",
        "        day_high = data['High'].iloc[-1]\n",
        "        day_low = data['Low'].iloc[-1]\n",
        "        open_price = data['Open'].iloc[-1]\n",
        "\n",
        "        # Print results\n",
        "        print(f\"Bank Nifty Current Data:\")\n",
        "        print(f\"Last Traded Price (LTP): {ltp}\")\n",
        "        print(f\"Day High: {day_high}\")\n",
        "        print(f\"Day Low: {day_low}\")\n",
        "        print(f\"Open Price: {open_price}\")\n",
        "    except Exception as e:\n",
        "        print(f\"Error fetching Bank Nifty data: {e}\")\n",
        "# Call the function\n",
        "get_banknifty_data()\n"
      ],
      "metadata": {
        "colab": {
          "base_uri": "https://localhost:8080/"
        },
        "id": "cLfZb23mRMTW",
        "outputId": "bcb718e0-dd0e-4661-bbd4-a14b9ba0bea2"
      },
      "execution_count": 1,
      "outputs": [
        {
          "output_type": "stream",
          "name": "stdout",
          "text": [
            "Bank Nifty Current Data:\n",
            "Last Traded Price (LTP): 52109.0\n",
            "Day High: 52197.25\n",
            "Day Low: 51693.94921875\n",
            "Open Price: 52087.6484375\n"
          ]
        }
      ]
    },
    {
      "cell_type": "code",
      "source": [
        "import yfinance as yf\n",
        "\n",
        "# Fetch Bank Nifty index data\n",
        "def get_banknifty_data():\n",
        "    try:\n",
        "        # Bank Nifty ticker on Yahoo Finance\n",
        "        ticker = \"^NSEBANK\"\n",
        "\n",
        "        # Fetch live data\n",
        "        banknifty = yf.Ticker(ticker)\n",
        "        data = banknifty.history(period=\"5d\")\n",
        "        #print(banknifty.history())\n",
        "        # Extract key details\n",
        "        ltp = data['Close'].iloc[-2]\n",
        "        day_high = data['High'].iloc[-2]\n",
        "        day_low = data['Low'].iloc[-2]\n",
        "        open_price = data['Open'].iloc[-2]\n",
        "\n",
        "        # Print results\n",
        "        print(f\"Bank Nifty Previous Day Data:\")\n",
        "        print(f\"Last Traded Price (LTP): {ltp}\")\n",
        "        print(f\"Day High: {day_high}\")\n",
        "        print(f\"Day Low: {day_low}\")\n",
        "        print(f\"Open Price: {open_price}\")\n",
        "    except Exception as e:\n",
        "        print(f\"Error fetching Bank Nifty data: {e}\")\n",
        "# Call the function\n",
        "get_banknifty_data()"
      ],
      "metadata": {
        "id": "P1v60ewdUdeQ",
        "outputId": "10c76082-3c6e-4305-c8b9-6e475d48ed12",
        "colab": {
          "base_uri": "https://localhost:8080/"
        }
      },
      "execution_count": 6,
      "outputs": [
        {
          "output_type": "stream",
          "name": "stdout",
          "text": [
            "                                   Open          High           Low  \\\n",
            "Date                                                                  \n",
            "2024-11-04 00:00:00+05:30  51764.500000  51764.500000  51066.800781   \n",
            "2024-11-05 00:00:00+05:30  51052.601562  52289.550781  50865.449219   \n",
            "2024-11-06 00:00:00+05:30  52440.398438  52493.949219  52185.398438   \n",
            "2024-11-07 00:00:00+05:30  52258.949219  52377.250000  51752.250000   \n",
            "2024-11-08 00:00:00+05:30  51869.148438  52007.148438  51494.000000   \n",
            "2024-11-11 00:00:00+05:30  51562.699219  52177.699219  51294.199219   \n",
            "2024-11-12 00:00:00+05:30  52053.750000  52169.050781  51006.851562   \n",
            "2024-11-13 00:00:00+05:30  51030.949219  51353.500000  49904.398438   \n",
            "2024-11-14 00:00:00+05:30  50053.449219  50561.800781  49939.351562   \n",
            "2024-11-18 00:00:00+05:30  50312.449219  50445.800781  50074.000000   \n",
            "2024-11-19 00:00:00+05:30  50580.550781  50983.500000  50440.851562   \n",
            "2024-11-21 00:00:00+05:30  50625.000000  50652.148438  49787.101562   \n",
            "2024-11-22 00:00:00+05:30  50512.800781  51271.500000  50508.250000   \n",
            "2024-11-25 00:00:00+05:30  52046.351562  52331.101562  51774.050781   \n",
            "2024-11-26 00:00:00+05:30  52554.898438  52555.500000  51999.750000   \n",
            "2024-11-27 00:00:00+05:30  52154.300781  52444.351562  52019.648438   \n",
            "2024-11-28 00:00:00+05:30  52389.949219  52760.199219  51782.898438   \n",
            "2024-11-29 00:00:00+05:30  51984.148438  52170.898438  51759.449219   \n",
            "2024-12-02 00:00:00+05:30  52087.648438  52197.250000  51693.949219   \n",
            "\n",
            "                                  Close  Volume  Dividends  Stock Splits  \n",
            "Date                                                                      \n",
            "2024-11-04 00:00:00+05:30  51215.250000  320500        0.0           0.0  \n",
            "2024-11-05 00:00:00+05:30  52207.250000  245000        0.0           0.0  \n",
            "2024-11-06 00:00:00+05:30  52317.398438  219100        0.0           0.0  \n",
            "2024-11-07 00:00:00+05:30  51916.500000  160500        0.0           0.0  \n",
            "2024-11-08 00:00:00+05:30  51561.199219  157200        0.0           0.0  \n",
            "2024-11-11 00:00:00+05:30  51876.750000  160700        0.0           0.0  \n",
            "2024-11-12 00:00:00+05:30  51157.800781  131400        0.0           0.0  \n",
            "2024-11-13 00:00:00+05:30  50088.351562  207100        0.0           0.0  \n",
            "2024-11-14 00:00:00+05:30  50179.550781  133900        0.0           0.0  \n",
            "2024-11-18 00:00:00+05:30  50363.800781  161500        0.0           0.0  \n",
            "2024-11-19 00:00:00+05:30  50626.500000  185800        0.0           0.0  \n",
            "2024-11-21 00:00:00+05:30  50372.898438  254600        0.0           0.0  \n",
            "2024-11-22 00:00:00+05:30  51135.398438  183400        0.0           0.0  \n",
            "2024-11-25 00:00:00+05:30  52207.500000  458500        0.0           0.0  \n",
            "2024-11-26 00:00:00+05:30  52191.500000  113100        0.0           0.0  \n",
            "2024-11-27 00:00:00+05:30  52301.800781  151600        0.0           0.0  \n",
            "2024-11-28 00:00:00+05:30  51906.851562  172000        0.0           0.0  \n",
            "2024-11-29 00:00:00+05:30  52055.601562  139600        0.0           0.0  \n",
            "2024-12-02 00:00:00+05:30  52109.000000       0        0.0           0.0  \n",
            "Bank Nifty Previous Day Data:\n",
            "Last Traded Price (LTP): 52055.6015625\n",
            "Day High: 52170.8984375\n",
            "Day Low: 51759.44921875\n",
            "Open Price: 51984.1484375\n"
          ]
        }
      ]
    }
  ],
  "metadata": {
    "kernelspec": {
      "display_name": "Python 3",
      "language": "python",
      "name": "python3"
    },
    "language_info": {
      "codemirror_mode": {
        "name": "ipython",
        "version": 3
      },
      "file_extension": ".py",
      "mimetype": "text/x-python",
      "name": "python",
      "nbconvert_exporter": "python",
      "pygments_lexer": "ipython3",
      "version": "3.11.0"
    },
    "colab": {
      "provenance": []
    }
  },
  "nbformat": 4,
  "nbformat_minor": 0
}