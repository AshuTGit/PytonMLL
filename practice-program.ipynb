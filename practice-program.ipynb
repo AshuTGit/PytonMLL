{
  "cells": [
    {
      "cell_type": "code",
      "execution_count": null,
      "metadata": {
        "id": "Y26BoNFtXY8-"
      },
      "outputs": [],
      "source": [
        "print(\"Ashutosh\")"
      ]
    },
    {
      "cell_type": "code",
      "source": [
        "#fibonacci program till 100\n",
        "import numpy as np\n",
        "n = 100\n",
        "n1 =0\n",
        "n2=1\n",
        "next_number=n1+n2\n",
        "counter = 1\n",
        "print(n1,n2)\n",
        "while next_number<=n:\n",
        "    print( next_number,end=\" \")\n",
        "    counter+=1\n",
        "    n1=n2\n",
        "    n2=next_number\n",
        "    next_number=n1+n2\n",
        "\n",
        "print(n1,n2)"
      ],
      "metadata": {
        "id": "GOoSNYEsXhMf"
      },
      "execution_count": null,
      "outputs": []
    },
    {
      "cell_type": "code",
      "source": [
        "#Prime Number till 100\n",
        "n=100\n",
        "for i in range(2,n+1):\n",
        "    for j in range(2,i):\n",
        "        if i%j==0:\n",
        "            break\n",
        "    else:\n",
        "        print(i)"
      ],
      "metadata": {
        "id": "m6LTNEgCizcE",
        "collapsed": true,
        "colab": {
          "base_uri": "https://localhost:8080/"
        },
        "outputId": "f947d45f-fc74-4204-a989-91118757889f"
      },
      "execution_count": 4,
      "outputs": [
        {
          "output_type": "stream",
          "name": "stdout",
          "text": [
            "2\n",
            "3\n",
            "5\n",
            "7\n",
            "11\n",
            "13\n",
            "17\n",
            "19\n",
            "23\n",
            "29\n",
            "31\n",
            "37\n",
            "41\n",
            "43\n",
            "47\n",
            "53\n",
            "59\n",
            "61\n",
            "67\n",
            "71\n",
            "73\n",
            "79\n",
            "83\n",
            "89\n",
            "97\n"
          ]
        }
      ]
    },
    {
      "cell_type": "code",
      "source": [
        "pip install yfinance"
      ],
      "metadata": {
        "id": "7nFPo7j7RtKM"
      },
      "execution_count": null,
      "outputs": []
    },
    {
      "cell_type": "code",
      "source": [
        "import yfinance as yf\n",
        "\n",
        "# Fetch Bank Nifty index data\n",
        "def get_banknifty_data():\n",
        "    try:\n",
        "        # Bank Nifty ticker on Yahoo Finance\n",
        "        ticker = \"^NSEBANK\"\n",
        "\n",
        "        # Fetch live data\n",
        "        banknifty = yf.Ticker(ticker)\n",
        "        data = banknifty.history(period=\"1d\")\n",
        "\n",
        "        # Extract key details\n",
        "        ltp = data['Close'].iloc[-1]\n",
        "        day_high = data['High'].iloc[-1]\n",
        "        day_low = data['Low'].iloc[-1]\n",
        "        open_price = data['Open'].iloc[-1]\n",
        "\n",
        "        # Print results\n",
        "        print(f\"Bank Nifty Current Data:\")\n",
        "        print(f\"Last Traded Price (LTP): {ltp}\")\n",
        "        print(f\"Day High: {day_high}\")\n",
        "        print(f\"Day Low: {day_low}\")\n",
        "        print(f\"Open Price: {open_price}\")\n",
        "    except Exception as e:\n",
        "        print(f\"Error fetching Bank Nifty data: {e}\")\n",
        "# Call the function\n",
        "get_banknifty_data()\n"
      ],
      "metadata": {
        "id": "cLfZb23mRMTW"
      },
      "execution_count": 7,
      "outputs": []
    }
  ],
  "metadata": {
    "kernelspec": {
      "display_name": "Python 3",
      "language": "python",
      "name": "python3"
    },
    "language_info": {
      "codemirror_mode": {
        "name": "ipython",
        "version": 3
      },
      "file_extension": ".py",
      "mimetype": "text/x-python",
      "name": "python",
      "nbconvert_exporter": "python",
      "pygments_lexer": "ipython3",
      "version": "3.11.0"
    },
    "colab": {
      "provenance": []
    }
  },
  "nbformat": 4,
  "nbformat_minor": 0
}