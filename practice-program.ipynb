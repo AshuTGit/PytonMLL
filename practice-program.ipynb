{
  "cells": [
    {
      "cell_type": "code",
      "execution_count": null,
      "metadata": {
        "id": "Y26BoNFtXY8-"
      },
      "outputs": [],
      "source": [
        "print(\"Ashutosh\")"
      ]
    },
    {
      "cell_type": "code",
      "source": [
        "#fibonacci program till 100\n",
        "import numpy as np\n",
        "n = 100\n",
        "n1 =0\n",
        "n2=1\n",
        "next_number=n1+n2\n",
        "counter = 1\n",
        "print(n1,n2)\n",
        "while next_number<=n:\n",
        "    print( next_number,end=\" \")\n",
        "    counter+=1\n",
        "    n1=n2\n",
        "    n2=next_number\n",
        "    next_number=n1+n2\n",
        "\n",
        "print(n1,n2)"
      ],
      "metadata": {
        "id": "GOoSNYEsXhMf"
      },
      "execution_count": null,
      "outputs": []
    },
    {
      "cell_type": "code",
      "source": [
        "#Prime Number till 100\n",
        "n=100\n",
        "for i in range(2,n+1):\n",
        "    for j in range(2,i):\n",
        "        if i%j==0:\n",
        "            break\n",
        "    else:\n",
        "        print(i)"
      ],
      "metadata": {
        "id": "m6LTNEgCizcE"
      },
      "execution_count": null,
      "outputs": []
    }
  ],
  "metadata": {
    "kernelspec": {
      "display_name": "Python 3",
      "language": "python",
      "name": "python3"
    },
    "language_info": {
      "codemirror_mode": {
        "name": "ipython",
        "version": 3
      },
      "file_extension": ".py",
      "mimetype": "text/x-python",
      "name": "python",
      "nbconvert_exporter": "python",
      "pygments_lexer": "ipython3",
      "version": "3.11.0"
    },
    "colab": {
      "provenance": []
    }
  },
  "nbformat": 4,
  "nbformat_minor": 0
}