{
  "cells": [
    {
      "cell_type": "code",
      "execution_count": null,
      "metadata": {
        "id": "Y26BoNFtXY8-"
      },
      "outputs": [],
      "source": [
        "print(\"Ashutosh\")"
      ]
    },
    {
      "cell_type": "code",
      "source": [
        "#fibonacci program till 100\n",
        "import numpy as np\n",
        "n = 100\n",
        "n1 =0\n",
        "n2=1\n",
        "next_number=n1+n2\n",
        "counter = 1\n",
        "print(n1,n2)\n",
        "while next_number<=n:\n",
        "    print( next_number,end=\" \")\n",
        "    counter+=1\n",
        "    n1=n2\n",
        "    n2=next_number\n",
        "    next_number=n1+n2\n",
        "\n",
        "print(n1,n2)"
      ],
      "metadata": {
        "colab": {
          "base_uri": "https://localhost:8080/"
        },
        "id": "GOoSNYEsXhMf",
        "outputId": "ff34ed9e-d4a3-45f3-e4be-771bc1b59d03"
      },
      "execution_count": 23,
      "outputs": [
        {
          "output_type": "stream",
          "name": "stdout",
          "text": [
            "0 1\n",
            "1 2 3 5 8 13 21 34 55 89 55 89\n"
          ]
        }
      ]
    }
  ],
  "metadata": {
    "kernelspec": {
      "display_name": "Python 3",
      "language": "python",
      "name": "python3"
    },
    "language_info": {
      "codemirror_mode": {
        "name": "ipython",
        "version": 3
      },
      "file_extension": ".py",
      "mimetype": "text/x-python",
      "name": "python",
      "nbconvert_exporter": "python",
      "pygments_lexer": "ipython3",
      "version": "3.11.0"
    },
    "colab": {
      "provenance": []
    }
  },
  "nbformat": 4,
  "nbformat_minor": 0
}