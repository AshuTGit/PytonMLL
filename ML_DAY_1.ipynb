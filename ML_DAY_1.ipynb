{
  "nbformat": 4,
  "nbformat_minor": 0,
  "metadata": {
    "colab": {
      "provenance": [],
      "history_visible": true
    },
    "kernelspec": {
      "name": "python3",
      "display_name": "Python 3"
    },
    "language_info": {
      "name": "python"
    }
  },
  "cells": [
    {
      "cell_type": "code",
      "execution_count": null,
      "metadata": {
        "colab": {
          "base_uri": "https://localhost:8080/"
        },
        "id": "WBAgvCnxpRIK",
        "outputId": "a0dfb083-25d8-4623-c9be-edf304c90eab"
      },
      "outputs": [
        {
          "output_type": "stream",
          "name": "stdout",
          "text": [
            "Day-1\n"
          ]
        }
      ],
      "source": [
        "print(\"Day-1\")"
      ]
    },
    {
      "cell_type": "code",
      "source": [
        "print(\"Ashutosh\")"
      ],
      "metadata": {
        "id": "-cxPs7KVTwZx",
        "outputId": "3412a291-533d-4358-b67f-33d60a52e741",
        "colab": {
          "base_uri": "https://localhost:8080/"
        }
      },
      "execution_count": null,
      "outputs": [
        {
          "output_type": "stream",
          "name": "stdout",
          "text": [
            "Ashutosh\n"
          ]
        }
      ]
    },
    {
      "cell_type": "code",
      "source": [
        "a=5\n",
        "b=4\n",
        "if a > b:print(\"a is greater than b!\")\n",
        "else:print(\"b is greater than a!\")"
      ],
      "metadata": {
        "id": "kX3TpIUPKRXC",
        "outputId": "72d5e320-01b4-489e-8e4f-50fbfb116f4e",
        "colab": {
          "base_uri": "https://localhost:8080/"
        }
      },
      "execution_count": 10,
      "outputs": [
        {
          "output_type": "stream",
          "name": "stdout",
          "text": [
            "a is greater than b!\n"
          ]
        }
      ]
    },
    {
      "cell_type": "code",
      "source": [
        "name = \"Ashu\"\n",
        "age = 36\n",
        "print(name,age)"
      ],
      "metadata": {
        "id": "gfTx5aw3Nw-m",
        "outputId": "49f1dce3-bf30-4025-b26e-f985d6b246df",
        "colab": {
          "base_uri": "https://localhost:8080/"
        }
      },
      "execution_count": 11,
      "outputs": [
        {
          "output_type": "stream",
          "name": "stdout",
          "text": [
            "Ashu 36\n"
          ]
        }
      ]
    },
    {
      "cell_type": "code",
      "source": [
        "x = 5\n",
        "x = \"Hello\"\n",
        "print(x)"
      ],
      "metadata": {
        "id": "TrGrrLBwOHUR",
        "outputId": "df5f9bfa-a7be-486a-b6f6-0d28a6761f0c",
        "colab": {
          "base_uri": "https://localhost:8080/"
        }
      },
      "execution_count": 12,
      "outputs": [
        {
          "output_type": "stream",
          "name": "stdout",
          "text": [
            "Hello\n"
          ]
        }
      ]
    },
    {
      "cell_type": "code",
      "source": [
        "x = 23 # int\n",
        "y = 5.6 # float\n",
        "z = 1+2j # complex"
      ],
      "metadata": {
        "id": "Ey2Ii9nVOPGk"
      },
      "execution_count": 13,
      "outputs": []
    },
    {
      "cell_type": "code",
      "source": [
        "print(type(x), type(y),  type(z))"
      ],
      "metadata": {
        "id": "iSaLSdC5OlRt",
        "outputId": "a8992731-ae4b-4c4c-9786-f93e667099ab",
        "colab": {
          "base_uri": "https://localhost:8080/"
        }
      },
      "execution_count": 14,
      "outputs": [
        {
          "output_type": "stream",
          "name": "stdout",
          "text": [
            "<class 'int'> <class 'float'> <class 'complex'>\n"
          ]
        }
      ]
    }
  ]
}