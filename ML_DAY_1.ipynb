{
  "nbformat": 4,
  "nbformat_minor": 0,
  "metadata": {
    "colab": {
      "provenance": [],
      "history_visible": true
    },
    "kernelspec": {
      "name": "python3",
      "display_name": "Python 3"
    },
    "language_info": {
      "name": "python"
    }
  },
  "cells": [
    {
      "cell_type": "code",
      "execution_count": null,
      "metadata": {
        "colab": {
          "base_uri": "https://localhost:8080/"
        },
        "id": "WBAgvCnxpRIK",
        "outputId": "a0dfb083-25d8-4623-c9be-edf304c90eab"
      },
      "outputs": [
        {
          "output_type": "stream",
          "name": "stdout",
          "text": [
            "Day-1\n"
          ]
        }
      ],
      "source": [
        "print(\"Day-1\")"
      ]
    },
    {
      "cell_type": "code",
      "source": [
        "print(\"Ashutosh\")"
      ],
      "metadata": {
        "id": "-cxPs7KVTwZx",
        "outputId": "3412a291-533d-4358-b67f-33d60a52e741",
        "colab": {
          "base_uri": "https://localhost:8080/"
        }
      },
      "execution_count": null,
      "outputs": [
        {
          "output_type": "stream",
          "name": "stdout",
          "text": [
            "Ashutosh\n"
          ]
        }
      ]
    },
    {
      "cell_type": "code",
      "source": [
        "a=5\n",
        "b=5\n",
        "if a > b:print(\"a is greater than b!\")\n",
        "elif a == b:print(\"a and b are equal\")\n",
        "else:print(\"b is greater than a!\")"
      ],
      "metadata": {
        "colab": {
          "base_uri": "https://localhost:8080/"
        },
        "id": "kX3TpIUPKRXC",
        "outputId": "57a1c106-75de-4286-f836-ad7b053f060a"
      },
      "execution_count": 33,
      "outputs": [
        {
          "output_type": "stream",
          "name": "stdout",
          "text": [
            "a and b are equal\n"
          ]
        }
      ]
    },
    {
      "cell_type": "code",
      "source": [
        "name = \"Ashu\"\n",
        "age = 36\n",
        "print(name,age)\n",
        "print(f\"{name} is {age} years old\")"
      ],
      "metadata": {
        "colab": {
          "base_uri": "https://localhost:8080/"
        },
        "id": "gfTx5aw3Nw-m",
        "outputId": "83b87883-4144-450b-a7e3-3948eb7f7abc"
      },
      "execution_count": 24,
      "outputs": [
        {
          "output_type": "stream",
          "name": "stdout",
          "text": [
            "Ashu 36\n",
            "Ashu is 36 years old\n"
          ]
        }
      ]
    },
    {
      "cell_type": "code",
      "source": [
        "x = 5\n",
        "x = \"Hello\"\n",
        "print(x)"
      ],
      "metadata": {
        "colab": {
          "base_uri": "https://localhost:8080/"
        },
        "id": "TrGrrLBwOHUR",
        "outputId": "df5f9bfa-a7be-486a-b6f6-0d28a6761f0c"
      },
      "execution_count": 12,
      "outputs": [
        {
          "output_type": "stream",
          "name": "stdout",
          "text": [
            "Hello\n"
          ]
        }
      ]
    },
    {
      "cell_type": "code",
      "source": [
        "x = 23 # int\n",
        "y = 5.6 # float\n",
        "z = 1+2j # complex"
      ],
      "metadata": {
        "id": "Ey2Ii9nVOPGk"
      },
      "execution_count": 13,
      "outputs": []
    },
    {
      "cell_type": "code",
      "source": [
        "print(type(x), type(y),  type(z))"
      ],
      "metadata": {
        "colab": {
          "base_uri": "https://localhost:8080/"
        },
        "id": "iSaLSdC5OlRt",
        "outputId": "a8992731-ae4b-4c4c-9786-f93e667099ab"
      },
      "execution_count": 14,
      "outputs": [
        {
          "output_type": "stream",
          "name": "stdout",
          "text": [
            "<class 'int'> <class 'float'> <class 'complex'>\n"
          ]
        }
      ]
    },
    {
      "cell_type": "code",
      "source": [
        "a = \"Hello World\"\n",
        "print(a[1])\n",
        "print(a[0:5])"
      ],
      "metadata": {
        "colab": {
          "base_uri": "https://localhost:8080/"
        },
        "id": "CbGOBIqNSI_T",
        "outputId": "312797ab-3167-45f8-cd08-3ef21cb9cd61"
      },
      "execution_count": 23,
      "outputs": [
        {
          "output_type": "stream",
          "name": "stdout",
          "text": [
            "e\n",
            "Hello\n"
          ]
        }
      ]
    },
    {
      "cell_type": "code",
      "source": [
        "\n",
        "y = int(3.2) # y will be 3\n",
        "z = int(\"3\") # z will be 3\n",
        "\n",
        "x = float(2) # x will be 2.0\n",
        "z = float(\"3\") # z will be 3.0\n",
        "w = float(\"1.2\") # w will be 1.2\n",
        "\n",
        "y = str(20) # y will be \"20\"\n",
        "z = str(3.0) # z will be \"3.0\""
      ],
      "metadata": {
        "id": "Zs50s5L_U7vC"
      },
      "execution_count": 25,
      "outputs": []
    },
    {
      "cell_type": "code",
      "source": [
        "mylist = [\"grapes\", \"banana\", \"mango\"]\n",
        "print(mylist)\n",
        "mymixedlist = [\"grapes\", 100, \"banana\", 12, \"mango\", 5.0]\n",
        "print(mymixedlist)\n",
        "list1 = [\"Once\",\"upon\",\"a\",\"time\"]\n",
        "list2 = [\"there\",\"was\",\"a\",\"king\"]\n",
        "list3 = list1+list2\n",
        "print(list3)\n",
        "print(list3[::-1])"
      ],
      "metadata": {
        "colab": {
          "base_uri": "https://localhost:8080/"
        },
        "id": "Pc9rEKy2Wr_T",
        "outputId": "f7cbd1d2-4e8d-44d1-f56f-f09111e972d7"
      },
      "execution_count": 26,
      "outputs": [
        {
          "output_type": "stream",
          "name": "stdout",
          "text": [
            "['grapes', 'banana', 'mango']\n",
            "['grapes', 100, 'banana', 12, 'mango', 5.0]\n",
            "['Once', 'upon', 'a', 'time', 'there', 'was', 'a', 'king']\n",
            "['king', 'a', 'was', 'there', 'time', 'a', 'upon', 'Once']\n"
          ]
        }
      ]
    },
    {
      "cell_type": "code",
      "source": [
        "mytuple = (\"grapes\", \"banana\", \"mango\")\n",
        "print(mytuple)"
      ],
      "metadata": {
        "colab": {
          "base_uri": "https://localhost:8080/"
        },
        "id": "GfIKJ41tW9Lk",
        "outputId": "a71e2afe-17c4-4138-ec67-dd7da22131a6"
      },
      "execution_count": 28,
      "outputs": [
        {
          "output_type": "stream",
          "name": "stdout",
          "text": [
            "('grapes', 'banana', 'mango')\n"
          ]
        }
      ]
    },
    {
      "cell_type": "code",
      "source": [
        "myset = {\"grapes\", \"banana\", \"mango\"}\n",
        "print(myset)"
      ],
      "metadata": {
        "colab": {
          "base_uri": "https://localhost:8080/"
        },
        "id": "ymRqp6VaXHwn",
        "outputId": "a44276f2-9a3e-4555-fdb6-4b7a1a1c9dcd"
      },
      "execution_count": 29,
      "outputs": [
        {
          "output_type": "stream",
          "name": "stdout",
          "text": [
            "{'grapes', 'banana', 'mango'}\n"
          ]
        }
      ]
    },
    {
      "cell_type": "code",
      "source": [
        "mydict = {\n",
        "\"first name\": \"Anuj\",\n",
        "\"last name\": \"Gupta\",\n",
        "\"age\": 23\n",
        "}\n",
        "print(mydict)"
      ],
      "metadata": {
        "colab": {
          "base_uri": "https://localhost:8080/"
        },
        "id": "eOCntDQpXQTQ",
        "outputId": "362f3bc9-818b-4175-c231-379a19963315"
      },
      "execution_count": 31,
      "outputs": [
        {
          "output_type": "stream",
          "name": "stdout",
          "text": [
            "{'first name': 'Anuj', 'last name': 'Gupta', 'age': 23}\n"
          ]
        }
      ]
    },
    {
      "cell_type": "code",
      "source": [
        "i = 1\n",
        "while i < 6:\n",
        "  print(i)\n",
        "  i += 1"
      ],
      "metadata": {
        "colab": {
          "base_uri": "https://localhost:8080/"
        },
        "id": "ZT63hWpsYKdf",
        "outputId": "3149372f-66bf-4bd8-f14d-9c633d71e812"
      },
      "execution_count": 42,
      "outputs": [
        {
          "output_type": "stream",
          "name": "stdout",
          "text": [
            "1\n",
            "2\n",
            "3\n",
            "4\n",
            "5\n"
          ]
        }
      ]
    },
    {
      "cell_type": "code",
      "source": [
        "fruits = [\"grapes\", \"banana\", \"mango\"]\n",
        "for x in fruits:\n",
        "  print(x)\n"
      ],
      "metadata": {
        "colab": {
          "base_uri": "https://localhost:8080/"
        },
        "id": "yeS6mEhks4e_",
        "outputId": "dc25f95d-f14a-4858-83c6-f33cfeb26768"
      },
      "execution_count": 43,
      "outputs": [
        {
          "output_type": "stream",
          "name": "stdout",
          "text": [
            "grapes\n",
            "banana\n",
            "mango\n"
          ]
        }
      ]
    },
    {
      "cell_type": "code",
      "source": [
        "st = [\"grapes\", \"banana\", \"mango\"]\n",
        "print(len(st))"
      ],
      "metadata": {
        "colab": {
          "base_uri": "https://localhost:8080/"
        },
        "id": "zKbytNoptHYv",
        "outputId": "93e888fa-7ec3-4144-8d76-debc1bc5c72d"
      },
      "execution_count": 45,
      "outputs": [
        {
          "output_type": "stream",
          "name": "stdout",
          "text": [
            "3\n"
          ]
        }
      ]
    },
    {
      "cell_type": "code",
      "source": [
        "for i in range(100,0,-2):\n",
        " print(i,end=\", \")"
      ],
      "metadata": {
        "colab": {
          "base_uri": "https://localhost:8080/"
        },
        "id": "I1L3STPhueiN",
        "outputId": "d442c827-2c5c-43f1-ac43-ba416c0a812d"
      },
      "execution_count": 46,
      "outputs": [
        {
          "output_type": "stream",
          "name": "stdout",
          "text": [
            "100, 98, 96, 94, 92, 90, 88, 86, 84, 82, 80, 78, 76, 74, 72, 70, 68, 66, 64, 62, 60, 58, 56, 54, 52, 50, 48, 46, 44, 42, 40, 38, 36, 34, 32, 30, 28, 26, 24, 22, 20, 18, 16, 14, 12, 10, 8, 6, 4, 2, "
          ]
        }
      ]
    },
    {
      "cell_type": "code",
      "source": [
        "def my_function():\n",
        "  print(\"Hello World\")\n",
        "\n",
        "my_function()"
      ],
      "metadata": {
        "colab": {
          "base_uri": "https://localhost:8080/"
        },
        "id": "dfhwETvQvelv",
        "outputId": "487a549e-2560-4037-e2f9-b4f670e2da63"
      },
      "execution_count": 48,
      "outputs": [
        {
          "output_type": "stream",
          "name": "stdout",
          "text": [
            "Hello World\n"
          ]
        }
      ]
    },
    {
      "cell_type": "code",
      "source": [
        "def my_function(a,b):\n",
        " c = a+b\n",
        " d = a-b\n",
        " return c,d\n"
      ],
      "metadata": {
        "id": "Qef3cP8QwuSe"
      },
      "execution_count": 49,
      "outputs": []
    },
    {
      "cell_type": "code",
      "source": [
        "add, sub = my_function(15,10)\n",
        "print(add) #Prints 25\n",
        "print(sub) #Prints 5"
      ],
      "metadata": {
        "id": "2A3J0k5LxF_2",
        "outputId": "d52ba93b-a785-4c91-de12-d43acf84ee1a",
        "colab": {
          "base_uri": "https://localhost:8080/"
        }
      },
      "execution_count": 50,
      "outputs": [
        {
          "output_type": "stream",
          "name": "stdout",
          "text": [
            "25\n",
            "5\n"
          ]
        }
      ]
    },
    {
      "cell_type": "code",
      "source": [
        "t = my_function(15,10)\n",
        "print(t)"
      ],
      "metadata": {
        "id": "WLpNPbXtxdqQ",
        "outputId": "c2a39e73-c384-4ef4-8d2f-db906cd38758",
        "colab": {
          "base_uri": "https://localhost:8080/"
        }
      },
      "execution_count": 51,
      "outputs": [
        {
          "output_type": "stream",
          "name": "stdout",
          "text": [
            "(25, 5)\n"
          ]
        }
      ]
    },
    {
      "cell_type": "code",
      "source": [
        "x = lambda a : a + 10\n",
        "print(x(5))"
      ],
      "metadata": {
        "id": "d9rznmId29cP",
        "outputId": "64f1e0b8-3aea-438a-9c7d-49588366fde2",
        "colab": {
          "base_uri": "https://localhost:8080/"
        }
      },
      "execution_count": 52,
      "outputs": [
        {
          "output_type": "stream",
          "name": "stdout",
          "text": [
            "15\n"
          ]
        }
      ]
    },
    {
      "cell_type": "code",
      "source": [
        "x = lambda a, b : a * b\n",
        "print(x(5, 6))"
      ],
      "metadata": {
        "id": "OpOo6mt7V84t",
        "outputId": "d664a314-a103-432d-903c-0ec85bb73b74",
        "colab": {
          "base_uri": "https://localhost:8080/"
        }
      },
      "execution_count": 1,
      "outputs": [
        {
          "output_type": "stream",
          "name": "stdout",
          "text": [
            "30\n"
          ]
        }
      ]
    },
    {
      "cell_type": "code",
      "source": [
        "mytuple = (\"grapes\", \"banana\", \"mango\")\n",
        "myit = iter(mytuple)\n",
        "print(next(myit))\n",
        "print(next(myit))\n",
        "print(next(myit))\n"
      ],
      "metadata": {
        "id": "EOtiHIVBWJwW",
        "outputId": "4c0d5b07-86d4-48d4-e5a0-f204ccf4b967",
        "colab": {
          "base_uri": "https://localhost:8080/"
        }
      },
      "execution_count": 2,
      "outputs": [
        {
          "output_type": "stream",
          "name": "stdout",
          "text": [
            "grapes\n",
            "banana\n",
            "mango\n"
          ]
        }
      ]
    },
    {
      "cell_type": "code",
      "source": [
        "class Rectangle:\n",
        " length = 15\n",
        " breadth = 19"
      ],
      "metadata": {
        "id": "XSW8uNjlWQ-p"
      },
      "execution_count": 3,
      "outputs": []
    },
    {
      "cell_type": "code",
      "source": [
        "p1 = Rectangle()\n",
        "print(p1.length)\n",
        "print(p1.breadth)"
      ],
      "metadata": {
        "id": "77N2y416WUnI",
        "outputId": "4c8d9559-dc74-43a9-8ff8-2bbce6952eb4",
        "colab": {
          "base_uri": "https://localhost:8080/"
        }
      },
      "execution_count": 4,
      "outputs": [
        {
          "output_type": "stream",
          "name": "stdout",
          "text": [
            "15\n",
            "19\n"
          ]
        }
      ]
    },
    {
      "cell_type": "code",
      "source": [
        "class Rectangle:\n",
        " def __init__(self,l,b):\n",
        "  self.length = l\n",
        "  self.bredth = b\n",
        " def area(self):\n",
        "  return(self.length*self.bredth)\n",
        " def perimeter(self):\n",
        "  return(2*self.length+2*self.bredth)"
      ],
      "metadata": {
        "id": "fNNQ5JkAWxDb"
      },
      "execution_count": 5,
      "outputs": []
    },
    {
      "cell_type": "code",
      "source": [
        "r1 = Rectangle(5,6)\n",
        "r1.area()\n",
        "r1.perimeter()"
      ],
      "metadata": {
        "id": "5CejBtOuXBRE",
        "outputId": "2755ee5f-e003-4c30-b2b6-257a98524b71",
        "colab": {
          "base_uri": "https://localhost:8080/"
        }
      },
      "execution_count": 6,
      "outputs": [
        {
          "output_type": "execute_result",
          "data": {
            "text/plain": [
              "22"
            ]
          },
          "metadata": {},
          "execution_count": 6
        }
      ]
    },
    {
      "cell_type": "code",
      "source": [
        "#create a file\n",
        "f = open(\"myfile.txt\", \"w\")\n",
        "f.write(\"Hello World\")\n",
        "f.close()\n"
      ],
      "metadata": {
        "id": "jabCSJtTZu9b"
      },
      "execution_count": 10,
      "outputs": []
    },
    {
      "cell_type": "code",
      "source": [
        "f = open(\"myfile.txt\", \"r\") #Opens the file\n",
        "print(f.read()) #Reads the entire content of the file\n",
        "f.close()\n",
        "\n"
      ],
      "metadata": {
        "id": "ai1XYHbYccvj",
        "outputId": "bbf7dc97-879e-4d89-e521-38c970d64514",
        "colab": {
          "base_uri": "https://localhost:8080/"
        }
      },
      "execution_count": 12,
      "outputs": [
        {
          "output_type": "stream",
          "name": "stdout",
          "text": [
            "Hello World\n"
          ]
        }
      ]
    },
    {
      "cell_type": "code",
      "source": [
        "f = open(\"myfile.txt\", \"r\")\n",
        "print(f.read(5)) #Prints the first 5 characters\n",
        "f.seek(0) #Takes you to beginning of file (0 denotes 0 byte)\n",
        "print(f.read()) #Prints the entire file from beginning\n",
        "f.close()\n"
      ],
      "metadata": {
        "id": "KqGNKqCZc4Bo",
        "outputId": "0097d169-dc8b-40f1-9513-b128730a64d1",
        "colab": {
          "base_uri": "https://localhost:8080/"
        }
      },
      "execution_count": 13,
      "outputs": [
        {
          "output_type": "stream",
          "name": "stdout",
          "text": [
            "Hello\n",
            "Hello World\n"
          ]
        }
      ]
    },
    {
      "cell_type": "code",
      "source": [
        "f = open(\"myfile.txt\", \"a\")\n",
        "f.write(\"Appending content to the file.\")\n",
        "f.close()\n"
      ],
      "metadata": {
        "id": "NwEdfo2zc8Bq"
      },
      "execution_count": 14,
      "outputs": []
    },
    {
      "cell_type": "code",
      "source": [
        "import os\n",
        "os.remove(\"myfile.txt\")\n"
      ],
      "metadata": {
        "id": "zIjtOlmMdpnk"
      },
      "execution_count": null,
      "outputs": []
    }
  ]
}